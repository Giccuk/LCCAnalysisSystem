{
 "cells": [
  {
   "cell_type": "code",
   "execution_count": 1,
   "metadata": {},
   "outputs": [],
   "source": [
    "import random, re, csv\n",
    "import numpy as np\n",
    "from sklearn import metrics,svm\n",
    "from sklearn.cluster import KMeans\n",
    "from sklearn.metrics import accuracy_score\n",
    "from sklearn.model_selection import train_test_split\n",
    "from simdata import *\n",
    "#from interdata_mysql_simple import *\n",
    "import matplotlib.pyplot as plt\n",
    "from mpl_toolkits.mplot3d import Axes3D\n",
    "# for kmeans\n",
    "from scipy import stats"
   ]
  },
  {
   "cell_type": "code",
   "execution_count": 2,
   "metadata": {},
   "outputs": [
    {
     "name": "stdout",
     "output_type": "stream",
     "text": [
      "acc_svm: 0.724137931034\n"
     ]
    }
   ],
   "source": [
    "#==============================================\n",
    "# make mixdata from csv files\n",
    "#==============================================\n",
    "mixdata_sim_filedir='../resources/gamedata/mixdata_sim.csv'\n",
    "interdata_sim_filedir='../resources/gamedata/interdata_sim.csv'\n",
    "biodata_sim_filedir='../resources/gamedata/biodata_sim.csv'\n",
    "\n",
    "# mixdata: [[interdata,biodata,prelabel],...,[]]\n",
    "mixdata=np.asarray(get_mldata(mixdata_sim_filedir),dtype=float)\n",
    "\n",
    "#mixdata=np.insert(raw_mixdata,[0],mixdata_indx,axis=1)\n",
    "\n",
    "# interdata_features:4+1 biodata_feature:10+1\n",
    "interdata=np.asarray(get_mldata(interdata_sim_filedir),dtype=float)\n",
    "biodata=np.asarray(get_mldata(biodata_sim_filedir),dtype=float)\n",
    "\n",
    "\n",
    "\n",
    "#==============================================\n",
    "#prepare features/labels for k-means\n",
    "#==============================================\n",
    "mixdata_feature=mixdata[:,0:mixdata[0].shape[0]-1]\n",
    "mixdata_feature_nd=(mixdata_feature - mixdata_feature.mean(axis=0)) / mixdata_feature.std(axis=0)\n",
    "mixdata_prelabel=mixdata[:,mixdata[0].shape[0]-1]\n",
    "#sample_indx=np.arange(raw_mixdata.shape[0]).reshape(raw_mixdata.shape[0],1)\n",
    "#indx_mixdata_nd=np.insert(mixdata_feature_nd[0:2],[0],sample_indx[0:2],axis=1)\n",
    "\n",
    "\n",
    "\n",
    "\n",
    "\n",
    "#================================\n",
    "# Cluster from kmeans\n",
    "#================================\n",
    "#make train/test lists for building cluster\n",
    "clu_train_feature,\\\n",
    "clu_test_feature,\\\n",
    "clu_train_label,\\\n",
    "clu_test_label = train_test_split(mixdata_feature_nd[:,0:4],mixdata_prelabel, test_size=.2)\n",
    "\n",
    "# build cluster from k-means\n",
    "cluster_km = KMeans(n_clusters=2, random_state=0).fit(clu_train_feature)\n",
    "\n",
    "#================================\n",
    "# Evaluation\n",
    "#================================\n",
    "#相似度检验\n",
    "#kresult=cluster_km.predict(clu_train_feature)\n",
    "#sprint(\"similarity test: \",metrics.adjusted_rand_score(kresult,clu_train_label))\n",
    "\n",
    "\n",
    "\n",
    "\n",
    "\n",
    "#================================\n",
    "# Classifier from SVM\n",
    "#================================\n",
    "#make train/test lists for building classifier\n",
    "cluster_result=cluster_km.predict(mixdata_feature_nd[:,0:4])\n",
    "\n",
    "clf_train_feature,\\\n",
    "clf_test_feature,\\\n",
    "clf_train_label,\\\n",
    "clf_test_label = train_test_split(mixdata_feature_nd[:,5:],cluster_result, test_size=.2)\n",
    "\n",
    "# build classifier\n",
    "classifier_svm=svm.SVC(C=1).fit(clf_train_feature,clf_train_label)\n",
    "\n",
    "labels_pre_svm=classifier_svm.predict(clf_test_feature)\n",
    "\n",
    "\n",
    "#============================\n",
    "# Evaluation\n",
    "#============================\n",
    "# accuracy\n",
    "acc_svm=accuracy_score(clf_test_label,labels_pre_svm)\n",
    "print(\"acc_svm:\",acc_svm)"
   ]
  },
  {
   "cell_type": "code",
   "execution_count": null,
   "metadata": {},
   "outputs": [],
   "source": []
  }
 ],
 "metadata": {
  "kernelspec": {
   "display_name": "Python 3",
   "language": "python",
   "name": "python3"
  },
  "language_info": {
   "codemirror_mode": {
    "name": "ipython",
    "version": 3
   },
   "file_extension": ".py",
   "mimetype": "text/x-python",
   "name": "python",
   "nbconvert_exporter": "python",
   "pygments_lexer": "ipython3",
   "version": "3.5.4"
  }
 },
 "nbformat": 4,
 "nbformat_minor": 2
}
