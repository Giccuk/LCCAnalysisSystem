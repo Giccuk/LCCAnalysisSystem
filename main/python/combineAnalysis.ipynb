{
 "cells": [
  {
   "cell_type": "code",
   "execution_count": 44,
   "metadata": {},
   "outputs": [
    {
     "data": {
      "text/plain": [
       "\"\\n# get features and labels from raw data\\nmldata = MLData.get_features_labels(mixdata,13,0.4)\\ntrain_features=mldata['train_features']\\ntrain_labels=mldata['train_labels']\\ntest_features=mldata['test_features']\\ntest_labels=mldata['test_labels']\\n\""
      ]
     },
     "execution_count": 44,
     "metadata": {},
     "output_type": "execute_result"
    }
   ],
   "source": [
    "import random, re, csv\n",
    "import numpy as np\n",
    "import MLData\n",
    "#for features and labels\n",
    "from sklearn.model_selection import train_test_split\n",
    "#for analysis methods\n",
    "from sklearn.cluster import KMeans\n",
    "from sklearn import svm\n",
    "#for evaluation\n",
    "from scipy import stats\n",
    "from sklearn.metrics import accuracy_score\n",
    "from sklearn import metrics\n",
    "from sklearn.model_selection import cross_val_score\n",
    "\n",
    "#=========================\n",
    "# Get Data for analysis\n",
    "#=========================\n",
    "#get raw data from dataset\n",
    "ilpddatafiledir = '/afs/inf.ed.ac.uk/user/s14/s1458248/workspace/vinlccanalysissystem/src/main/resources/ilpddata/ilpddata2.csv'\n",
    "ilpddata =MLData.get_ilpddata(ilpddatafiledir)\n",
    "interdata = MLData.get_interdata_sim(ilpddata)\n",
    "mixdata = MLData.get_mixdata(ilpddata, interdata)\n",
    "\n",
    "'''\n",
    "# get features and labels from raw data\n",
    "mldata = MLData.get_features_labels(mixdata,13,0.4)\n",
    "train_features=mldata['train_features']\n",
    "train_labels=mldata['train_labels']\n",
    "test_features=mldata['test_features']\n",
    "test_labels=mldata['test_labels']\n",
    "'''"
   ]
  },
  {
   "cell_type": "code",
   "execution_count": 45,
   "metadata": {},
   "outputs": [
    {
     "data": {
      "text/plain": [
       "'      \\nprint sampleset_0.shape[0]+sampleset_1.shape[0]\\nprint stats.ttest_ind(kresult,inter_test_labels)\\nprint accuracy_score(kresult,inter_test_labels)\\n\\nprint metrics.adjusted_rand_score(kresult,inter_test_labels)\\n'"
      ]
     },
     "execution_count": 45,
     "metadata": {},
     "output_type": "execute_result"
    }
   ],
   "source": [
    "#=======================================\n",
    "# Interaction data analysis\n",
    "#=======================================\n",
    "#special variable\n",
    "num_clusters=2\n",
    "\n",
    "#build interdata features\n",
    "interdata_features=np.array([np.zeros(len(interdata[0])-1)])\n",
    "num_interdata_features=len(interdata[0])-1\n",
    "\n",
    "for i in interdata:\n",
    "    interdata_features=np.append(interdata_features,[i[0:num_interdata_features]],axis=0)\n",
    "interdata_features=np.delete(interdata_features,0,0)\n",
    "\n",
    "#do clustering on interdata features(kmeans)\n",
    "kmeans = KMeans(n_clusters=num_clusters, random_state=0).fit(interdata_features)\n",
    "interdata_km_labels=kmeans.labels_\n",
    "#kresult=kmeans.predict(interdata_sim_features)\n",
    "\n",
    "#build divided mixdata\n",
    "mixdata_div=[]\n",
    "for i in range(0,len(interdiv_labels)):\n",
    "    mixdata_div=mixdata_div+[mixdata[i]+[interdata_km_labels[i]]]\n",
    "\n",
    "    \n",
    "'''\n",
    "mixdata_div=[]\n",
    "for i in range(1,num_clusters+1):\n",
    "    mixdata_div=mixdata_div+[[]]\n",
    "for i in range(0,len(interdiv_labels)):\n",
    "        mixdata_div[interdiv_labels[i]]=mixdata_div[interdiv_labels[i]]+[mixdata[i]]\n",
    "'''\n",
    "'''      \n",
    "print sampleset_0.shape[0]+sampleset_1.shape[0]\n",
    "print stats.ttest_ind(kresult,inter_test_labels)\n",
    "print accuracy_score(kresult,inter_test_labels)\n",
    "\n",
    "print metrics.adjusted_rand_score(kresult,inter_test_labels)\n",
    "'''"
   ]
  },
  {
   "cell_type": "code",
   "execution_count": 48,
   "metadata": {},
   "outputs": [
    {
     "name": "stdout",
     "output_type": "stream",
     "text": [
      "[ 0.71590909  0.72413793  0.72093023  0.72093023]\n",
      "0.711206896552\n"
     ]
    }
   ],
   "source": [
    "#==========================================================\n",
    "# sbatract bio information patterns from divided samples\n",
    "#==========================================================\n",
    "\n",
    "ml_mixdata_div = MLData.get_features_labels(mixdata_div,14,0.4)\n",
    "train_features=ml_mixdata_div['train_features']\n",
    "train_labels=ml_mixdata_div['train_labels']\n",
    "test_features=ml_mixdata_div['test_features']\n",
    "test_labels=ml_mixdata_div['test_labels']\n",
    "\n",
    "\n",
    "svmclf=svm.SVC(C=1)\n",
    "svmclf.fit(train_features,train_labels)\n",
    "svmclfresult=svmclf.predict(test_features)\n",
    "\n",
    "scores=cross_val_score(svmclf,train_features,train_labels,cv=4)\n",
    "\n",
    "\n",
    "print scores\n",
    "print accuracy_score(test_labels,svmclfresult)\n"
   ]
  },
  {
   "cell_type": "code",
   "execution_count": null,
   "metadata": {
    "collapsed": true
   },
   "outputs": [],
   "source": []
  }
 ],
 "metadata": {
  "kernelspec": {
   "display_name": "Python 2",
   "language": "python",
   "name": "python2"
  }
 },
 "nbformat": 4,
 "nbformat_minor": 1
}
