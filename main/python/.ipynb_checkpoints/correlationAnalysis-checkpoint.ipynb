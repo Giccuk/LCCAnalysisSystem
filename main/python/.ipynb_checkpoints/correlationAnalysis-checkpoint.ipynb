{
 "cells": [
  {
   "cell_type": "code",
   "execution_count": 40,
   "metadata": {},
   "outputs": [
    {
     "name": "stdout",
     "output_type": "stream",
     "text": [
      "(346, 10)\n",
      "(233, 10)\n"
     ]
    }
   ],
   "source": [
    "import random,re,csv\n",
    "import numpy as np\n",
    "import MLData\n",
    "from sklearn.cluster import KMeans\n",
    "from scipy import stats\n",
    "from sklearn.metrics import accuracy_score\n",
    "from sklearn import metrics\n",
    "from sklearn.model_selection import train_test_split\n",
    "\n",
    "ilpddatafiledir='/Users/cancui/workspace/virENV/lccanalysissystem/src/main/resources/ilpddata/ilpddata2.csv'\n",
    "interdatafiledir_sim='/Users/cancui/workspace/virENV/lccanalysissystem/src/main/resources/behaviordata_sim/behaviordata_sim.csv'\n",
    "ilpddata=MLData.get_ilpddata(ilpddatafiledir)\n",
    "\n",
    "print ilpddata[\"train_features\"].shape\n",
    "print ilpddata[\"test_features\"].shape\n",
    "\n"
   ]
  },
  {
   "cell_type": "code",
   "execution_count": 43,
   "metadata": {},
   "outputs": [
    {
     "name": "stdout",
     "output_type": "stream",
     "text": [
      "1.0\n"
     ]
    }
   ],
   "source": [
    "interdata=MLData.get_interactiondata_sim(interdatafiledir_sim)\n",
    "\n",
    "train_labels=interdata['train_labels']\n",
    "train_features=interdata['train_features']\n",
    "test_labels=interdata['test_labels']\n",
    "test_features=interdata['test_features']\n",
    "\n",
    "#========================\n",
    "# kmeans\n",
    "#========================\n",
    "X = np.array(train_features)\n",
    "kmeans = KMeans(n_clusters=2, random_state=0).fit(train_features)\n",
    "kresult=kmeans.predict(test_features)\n",
    "\n",
    "clu_similarity=metrics.adjusted_rand_score(kresult,test_labels)"
   ]
  },
  {
   "cell_type": "code",
   "execution_count": null,
   "metadata": {
    "collapsed": true
   },
   "outputs": [],
   "source": []
  }
 ],
 "metadata": {
  "kernelspec": {
   "display_name": "Python 2",
   "language": "python",
   "name": "python2"
  },
  "language_info": {
   "codemirror_mode": {
    "name": "ipython",
    "version": 2
   },
   "file_extension": ".py",
   "mimetype": "text/x-python",
   "name": "python",
   "nbconvert_exporter": "python",
   "pygments_lexer": "ipython2",
   "version": "2.7.13"
  }
 },
 "nbformat": 4,
 "nbformat_minor": 1
}
