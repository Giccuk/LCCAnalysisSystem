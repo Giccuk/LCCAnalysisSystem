{
 "cells": [
  {
   "cell_type": "code",
   "execution_count": 56,
   "metadata": {},
   "outputs": [
    {
     "name": "stdout",
     "output_type": "stream",
     "text": [
      "11998\n"
     ]
    }
   ],
   "source": [
    "from sklearn.cluster import KMeans\n",
    "import numpy as np\n",
    "import MLData\n",
    "from scipy import stats\n",
    "from sklearn.metrics import accuracy_score\n",
    "from sklearn import metrics,svm\n",
    "from sklearn.model_selection import cross_val_score\n",
    "\n",
    "interdatafiledir_sim='/Users/cancui/workspace/virENV/lccanalysissystem/src/main/resources/behaviordata_sim/behaviordata_sim.csv'\n",
    "MLData.build_interactiondata(interdatafiledir_sim)\n",
    "interdata=MLData.get_interactiondata_sim(interdatafiledir_sim)\n",
    "\n",
    "interdata_train_labels=interdata['train_labels']\n",
    "interdata_train_features=interdata['train_features']\n",
    "interdata_test_labels=interdata['test_labels']\n",
    "interdata_test_features=interdata['test_features']\n",
    "\n",
    "iplddatafiledir='/Users/cancui/workspace/virENV/lccanalysissystem/src/main/resources/ilpddata/ilpddata2.csv'\n",
    "iplddata=MLData.get_ilpddata(iplddatafiledir)\n",
    "\n",
    "iplddata_train_labels=iplddata['train_labels']\n",
    "iplddata_train_features=iplddata['train_features']\n",
    "iplddata_test_labels=iplddata['test_labels']\n",
    "iplddata_test_features=iplddata['test_features']\n",
    "\n",
    "#========================\n",
    "# kmeans\n",
    "#========================\n",
    "def addone(x): return x+1\n",
    "X = np.array(interdata_train_features)\n",
    "kmeans = KMeans(n_clusters=2, random_state=0).fit(X)\n",
    "kresult=kmeans.predict(interdata_test_features)\n",
    "\n",
    "#stats.ttest_ind(kresult,test_labels)\n",
    "\n",
    "accuracy_score(kresult,test_labels)\n",
    "\n",
    "clu_similarity=metrics.adjusted_rand_score(kresult,test_labels)\n"
   ]
  },
  {
   "cell_type": "code",
   "execution_count": 45,
   "metadata": {},
   "outputs": [
    {
     "name": "stdout",
     "output_type": "stream",
     "text": [
      "correlation\n",
      "[ 1.  1.  1.  1.]\n",
      "1.0\n"
     ]
    }
   ],
   "source": [
    "if clu_similarity>0.5:\n",
    "    print \"correlation\"\n",
    "    svmclf=svm.SVC(C=1)\n",
    "    svmclf.fit(interdata_train_features,interdata_train_labels)\n",
    "    svmclfresult=svmclf.predict(interdata_test_features)\n",
    "    cva_scores=cross_val_score(svmclf,interdata_train_features,interdata_train_labels,cv=4)\n",
    "    print cva_scores\n",
    "    print accuracy_score(interdata_test_labels,svmclfresult)\n",
    "    \n",
    "else:\n",
    "    print \"non-correlation\""
   ]
  },
  {
   "cell_type": "code",
   "execution_count": 48,
   "metadata": {},
   "outputs": [
    {
     "data": {
      "text/plain": [
       "11998"
      ]
     },
     "execution_count": 48,
     "metadata": {},
     "output_type": "execute_result"
    }
   ],
   "source": [
    "interdata['train_labels'].size"
   ]
  },
  {
   "cell_type": "code",
   "execution_count": 70,
   "metadata": {},
   "outputs": [
    {
     "ename": "SyntaxError",
     "evalue": "invalid syntax (<ipython-input-70-cf30752dcee0>, line 3)",
     "output_type": "error",
     "traceback": [
      "\u001b[0;36m  File \u001b[0;32m\"<ipython-input-70-cf30752dcee0>\"\u001b[0;36m, line \u001b[0;32m3\u001b[0m\n\u001b[0;31m    if iplddata['train_labels'](i)==1\u001b[0m\n\u001b[0m                                     ^\u001b[0m\n\u001b[0;31mSyntaxError\u001b[0m\u001b[0;31m:\u001b[0m invalid syntax\n"
     ]
    }
   ],
   "source": [
    "one_indx_ipldata=[]\n",
    "for i in range(1,iplddata['train_labels'].size):\n",
    "    if iplddata['train_labels'](i)==1\n",
    "    one_indx_ipldata=one_indx_ipldata+[i]\n",
    "print len(one_indx_ipldata)"
   ]
  },
  {
   "cell_type": "code",
   "execution_count": 72,
   "metadata": {},
   "outputs": [
    {
     "data": {
      "text/plain": [
       "numpy.ndarray"
      ]
     },
     "execution_count": 72,
     "metadata": {},
     "output_type": "execute_result"
    }
   ],
   "source": [
    "iplddata['train_labels'][0]"
   ]
  }
 ],
 "metadata": {
  "kernelspec": {
   "display_name": "Python 2",
   "language": "python",
   "name": "python2"
  },
  "language_info": {
   "codemirror_mode": {
    "name": "ipython",
    "version": 2
   },
   "file_extension": ".py",
   "mimetype": "text/x-python",
   "name": "python",
   "nbconvert_exporter": "python",
   "pygments_lexer": "ipython2",
   "version": "2.7.13"
  }
 },
 "nbformat": 4,
 "nbformat_minor": 2
}
