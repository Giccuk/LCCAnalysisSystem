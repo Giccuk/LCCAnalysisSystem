{
 "cells": [
  {
   "cell_type": "code",
   "execution_count": 6,
   "metadata": {},
   "outputs": [
    {
     "ename": "NameError",
     "evalue": "name 'test_labels' is not defined",
     "output_type": "error",
     "traceback": [
      "\u001b[0;31m---------------------------------------------------------------------------\u001b[0m",
      "\u001b[0;31mNameError\u001b[0m                                 Traceback (most recent call last)",
      "\u001b[0;32m<ipython-input-6-508096ca0aff>\u001b[0m in \u001b[0;36m<module>\u001b[0;34m()\u001b[0m\n\u001b[1;32m     36\u001b[0m \u001b[0;31m#stats.ttest_ind(kresult,test_labels)\u001b[0m\u001b[0;34m\u001b[0m\u001b[0;34m\u001b[0m\u001b[0m\n\u001b[1;32m     37\u001b[0m \u001b[0;34m\u001b[0m\u001b[0m\n\u001b[0;32m---> 38\u001b[0;31m \u001b[0maccuracy_score\u001b[0m\u001b[0;34m(\u001b[0m\u001b[0mkresult\u001b[0m\u001b[0;34m,\u001b[0m\u001b[0mtest_labels\u001b[0m\u001b[0;34m)\u001b[0m\u001b[0;34m\u001b[0m\u001b[0m\n\u001b[0m\u001b[1;32m     39\u001b[0m \u001b[0;34m\u001b[0m\u001b[0m\n\u001b[1;32m     40\u001b[0m \u001b[0mclu_similarity\u001b[0m\u001b[0;34m=\u001b[0m\u001b[0mmetrics\u001b[0m\u001b[0;34m.\u001b[0m\u001b[0madjusted_rand_score\u001b[0m\u001b[0;34m(\u001b[0m\u001b[0mkresult\u001b[0m\u001b[0;34m,\u001b[0m\u001b[0mtest_labels\u001b[0m\u001b[0;34m)\u001b[0m\u001b[0;34m\u001b[0m\u001b[0m\n",
      "\u001b[0;31mNameError\u001b[0m: name 'test_labels' is not defined"
     ]
    }
   ],
   "source": [
    "from sklearn.cluster import KMeans\n",
    "import numpy as np\n",
    "import MLData\n",
    "from scipy import stats\n",
    "from sklearn.metrics import accuracy_score\n",
    "from sklearn import metrics,svm\n",
    "from sklearn.model_selection import cross_val_score\n",
    "\n",
    "interdatafiledir_sim='/afs/inf.ed.ac.uk/user/s14/s1458248/workspace/vinlccanalysissystem/src/main/resources/behaviordata_sim/behaviordata_sim.csv'\n",
    "MLData.build_interactiondata(interdatafiledir_sim)\n",
    "interdata=MLData.get_interactiondata_sim(interdatafiledir_sim)\n",
    "\n",
    "\n",
    "\n",
    "interdata_train_labels=interdata['train_labels']\n",
    "interdata_train_features=interdata['train_features']\n",
    "interdata_test_labels=interdata['test_labels']\n",
    "interdata_test_features=interdata['test_features']\n",
    "\n",
    "ilpddatafiledir='/afs/inf.ed.ac.uk/user/s14/s1458248/workspace/vinlccanalysissystem/src/main/resources/ilpddata/ilpddata2.csv'\n",
    "ilpddata=MLData.get_ilpddata(ilpddatafiledir)\n",
    "\n",
    "ilpddata_train_labels=ilpddata['train_labels']\n",
    "ilpddata_train_features=ilpddata['train_features']\n",
    "ilpddata_test_labels=ilpddata['test_labels']\n",
    "ilpddata_test_features=ilpddata['test_features']\n",
    "\n",
    "#========================\n",
    "# kmeans\n",
    "#========================\n",
    "def addone(x): return x+1\n",
    "X = np.array(interdata_train_features)\n",
    "kmeans = KMeans(n_clusters=2, random_state=0).fit(X)\n",
    "kresult=kmeans.predict(interdata_test_features)\n",
    "\n",
    "#stats.ttest_ind(kresult,test_labels)\n",
    "\n",
    "accuracy_score(kresult,interdata_test_labels)\n",
    "\n",
    "clu_similarity=metrics.adjusted_rand_score(kresult,test_labels)\n"
   ]
  },
  {
   "cell_type": "code",
   "execution_count": 45,
   "metadata": {},
   "outputs": [
    {
     "name": "stdout",
     "output_type": "stream",
     "text": [
      "correlation\n",
      "[ 1.  1.  1.  1.]\n",
      "1.0\n"
     ]
    }
   ],
   "source": [
    "if clu_similarity>0.5:\n",
    "    print \"correlation\"\n",
    "    svmclf=svm.SVC(C=1)\n",
    "    svmclf.fit(interdata_train_features,interdata_train_labels)\n",
    "    svmclfresult=svmclf.predict(interdata_test_features)\n",
    "    cva_scores=cross_val_score(svmclf,interdata_train_features,interdata_train_labels,cv=4)\n",
    "    print cva_scores\n",
    "    print accuracy_score(interdata_test_labels,svmclfresult)\n",
    "    \n",
    "else:\n",
    "    print \"non-correlation\""
   ]
  },
  {
   "cell_type": "code",
   "execution_count": 48,
   "metadata": {},
   "outputs": [
    {
     "data": {
      "text/plain": [
       "11998"
      ]
     },
     "execution_count": 48,
     "metadata": {},
     "output_type": "execute_result"
    }
   ],
   "source": [
    "interdata['train_labels'].size"
   ]
  },
  {
   "cell_type": "code",
   "execution_count": 1,
   "metadata": {},
   "outputs": [
    {
     "ename": "NameError",
     "evalue": "name 'iplddata' is not defined",
     "output_type": "error",
     "traceback": [
      "\u001b[0;31m---------------------------------------------------------------------------\u001b[0m",
      "\u001b[0;31mNameError\u001b[0m                                 Traceback (most recent call last)",
      "\u001b[0;32m<ipython-input-1-758da7c9ef94>\u001b[0m in \u001b[0;36m<module>\u001b[0;34m()\u001b[0m\n\u001b[1;32m      1\u001b[0m \u001b[0mone_indx_ipldata\u001b[0m\u001b[0;34m=\u001b[0m\u001b[0;34m[\u001b[0m\u001b[0;34m]\u001b[0m\u001b[0;34m\u001b[0m\u001b[0m\n\u001b[0;32m----> 2\u001b[0;31m \u001b[0;32mfor\u001b[0m \u001b[0mi\u001b[0m \u001b[0;32min\u001b[0m \u001b[0mrange\u001b[0m\u001b[0;34m(\u001b[0m\u001b[0;36m1\u001b[0m\u001b[0;34m,\u001b[0m\u001b[0miplddata\u001b[0m\u001b[0;34m[\u001b[0m\u001b[0;34m'train_labels'\u001b[0m\u001b[0;34m]\u001b[0m\u001b[0;34m.\u001b[0m\u001b[0msize\u001b[0m\u001b[0;34m)\u001b[0m\u001b[0;34m:\u001b[0m\u001b[0;34m\u001b[0m\u001b[0m\n\u001b[0m\u001b[1;32m      3\u001b[0m     \u001b[0;32mif\u001b[0m \u001b[0miplddata\u001b[0m\u001b[0;34m[\u001b[0m\u001b[0;34m'train_labels'\u001b[0m\u001b[0;34m]\u001b[0m\u001b[0;34m[\u001b[0m\u001b[0mi\u001b[0m\u001b[0;34m]\u001b[0m\u001b[0;34m==\u001b[0m\u001b[0;36m1\u001b[0m\u001b[0;34m:\u001b[0m\u001b[0;34m\u001b[0m\u001b[0m\n\u001b[1;32m      4\u001b[0m         \u001b[0mone_indx_ipldata\u001b[0m\u001b[0;34m=\u001b[0m\u001b[0mone_indx_ipldata\u001b[0m\u001b[0;34m+\u001b[0m\u001b[0;34m[\u001b[0m\u001b[0mi\u001b[0m\u001b[0;34m]\u001b[0m\u001b[0;34m\u001b[0m\u001b[0m\n",
      "\u001b[0;31mNameError\u001b[0m: name 'iplddata' is not defined"
     ]
    }
   ],
   "source": [
    "one_indx_ipldata=[]\n",
    "for i in range(1,iplddata['train_labels'].size):\n",
    "    if iplddata['train_labels'][i]==1:\n",
    "        one_indx_ipldata=one_indx_ipldata+[i]\n"
   ]
  },
  {
   "cell_type": "code",
   "execution_count": 75,
   "metadata": {},
   "outputs": [
    {
     "data": {
      "text/plain": [
       "0.0"
      ]
     },
     "execution_count": 75,
     "metadata": {},
     "output_type": "execute_result"
    }
   ],
   "source": [
    "iplddata['train_labels'][1]-1"
   ]
  }
 ],
 "metadata": {
  "kernelspec": {
   "display_name": "Python 2",
   "language": "python",
   "name": "python2"
  },
  "language_info": {
   "codemirror_mode": {
    "name": "ipython",
    "version": 2
   },
   "file_extension": ".py",
   "mimetype": "text/x-python",
   "name": "python",
   "nbconvert_exporter": "python",
   "pygments_lexer": "ipython2",
   "version": "2.7.5"
  }
 },
 "nbformat": 4,
 "nbformat_minor": 2
}
