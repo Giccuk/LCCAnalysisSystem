{
 "cells": [
  {
   "cell_type": "code",
   "execution_count": 4,
   "metadata": {},
   "outputs": [],
   "source": [
    "import random, re, csv\n",
    "import tensorflow as tf\n",
    "import numpy as np\n",
    "from simdata import *\n",
    "\n",
    "#prepare data\n",
    "mixdata_sim_filedir='../resources/gamedata/mixdata_sim.csv'\n",
    "interdata_sim_filedir='../resources/gamedata/interdata_sim.csv'\n",
    "biodata_sim_filedir='../resources/gamedata/biodata_sim.csv'\n",
    "\n",
    "mixdata_sim=get_mldata(mixdata_sim_filedir)\n",
    "interdata_sim=get_mldata(interdata_sim_filedir)\n",
    "biodata_sim=get_mldata(biodata_sim_filedir)\n",
    "                       \n",
    "test_labels=[]\n",
    "test_features=[]\n",
    "train_labels=[]\n",
    "train_features=[]\n",
    "\n",
    "for i in mixdata_sim[0:400]:\n",
    "    train_labels=train_labels+[i[0:4]]\n",
    "    train_features=train_features+[i[4:14]]\n",
    "for i in mixdata_sim[400:580]:\n",
    "    test_labels=test_labels+[i[0:4]]\n",
    "    test_features=test_features+[i[4:14]]\n",
    "\n",
    "train_labels=np.array(train_labels)\n",
    "train_features=np.array(train_features)\n",
    "test_labels=np.array(test_labels)\n",
    "test_features=np.array(test_features)"
   ]
  },
  {
   "cell_type": "code",
   "execution_count": 6,
   "metadata": {},
   "outputs": [
    {
     "name": "stdout",
     "output_type": "stream",
     "text": [
      "[7.0, 3.0, 5.0, 5.0, 65.0, 1.0, 0.7, 0.1, 187.0, 16.0, 18.0, 6.8, 3.3, 0.9, 1.0]\n",
      "[7.0, 3.0, 5.0, 5.0, 1.0]\n"
     ]
    }
   ],
   "source": [
    "print(mixdata_sim[0])\n",
    "print(interdata_sim[0])"
   ]
  },
  {
   "cell_type": "code",
   "execution_count": null,
   "metadata": {},
   "outputs": [],
   "source": []
  }
 ],
 "metadata": {
  "kernelspec": {
   "display_name": "Python 3",
   "language": "python",
   "name": "python3"
  },
  "language_info": {
   "codemirror_mode": {
    "name": "ipython",
    "version": 3
   },
   "file_extension": ".py",
   "mimetype": "text/x-python",
   "name": "python",
   "nbconvert_exporter": "python",
   "pygments_lexer": "ipython3",
   "version": "3.5.4"
  }
 },
 "nbformat": 4,
 "nbformat_minor": 1
}
