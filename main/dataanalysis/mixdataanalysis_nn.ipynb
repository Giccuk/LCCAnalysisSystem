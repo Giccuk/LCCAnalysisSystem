{
 "cells": [
  {
   "cell_type": "code",
   "execution_count": 1,
   "metadata": {},
   "outputs": [],
   "source": [
    "import random, re, csv\n",
    "import tensorflow as tf\n",
    "import numpy as np\n",
    "from simdata import *\n",
    "\n",
    "#prepare data\n",
    "mixdata_sim_filedir='../resources/gamedata/mixdata_sim.csv'\n",
    "inerdata_sim_filedir='../resources/gamedata/interdata_sim.csv'\n",
    "biodata_sim_filedir='../resources/gamedata/biodata_sim.csv'\n",
    "\n",
    "mixdata_sim=get_mldata(mixdata_sim_filedir)\n",
    "                       \n",
    "test_labels=[]\n",
    "test_features=[]\n",
    "train_labels=[]\n",
    "train_features=[]\n",
    "\n",
    "for i in mixdata_sim[0:400]:\n",
    "    train_labels=train_labels+[i[0:4]]\n",
    "    train_features=train_features+[i[4:14]]\n",
    "for i in mixdata_sim[400:580]:\n",
    "    test_labels=test_labels+[i[0:4]]\n",
    "    test_features=test_features+[i[4:14]]\n",
    "\n",
    "train_labels=np.array(train_labels)\n",
    "train_features=np.array(train_features)\n",
    "test_labels=np.array(test_labels)\n",
    "test_features=np.array(test_features)"
   ]
  },
  {
   "cell_type": "code",
   "execution_count": null,
   "metadata": {
    "collapsed": true
   },
   "outputs": [],
   "source": []
  }
 ],
 "metadata": {
  "kernelspec": {
   "display_name": "Python 3",
   "language": "python",
   "name": "python3"
  },
  "language_info": {
   "codemirror_mode": {
    "name": "ipython",
    "version": 3
   },
   "file_extension": ".py",
   "mimetype": "text/x-python",
   "name": "python",
   "nbconvert_exporter": "python",
   "pygments_lexer": "ipython3",
   "version": "3.5.4"
  }
 },
 "nbformat": 4,
 "nbformat_minor": 1
}
