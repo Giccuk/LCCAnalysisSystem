{
 "cells": [
  {
   "cell_type": "code",
   "execution_count": 51,
   "metadata": {},
   "outputs": [],
   "source": [
    "import random, re, csv\n",
    "import numpy as np\n",
    "from sklearn import metrics,svm\n",
    "from sklearn.cluster import KMeans\n",
    "from sklearn.model_selection import train_test_split\n",
    "from simdata import *\n",
    "from interdata_mysql_simple import *\n",
    "from sklearn.metrics import accuracy_score\n",
    "from sklearn.model_selection import cross_val_score\n",
    "from sklearn.metrics import precision_score\n",
    "\n",
    "#get data from csv files\n",
    "mixdata_sim_filedir='../resources/gamedata/mixdata_sim.csv'\n",
    "inerdata_sim_filedir='../resources/gamedata/interdata_sim.csv'\n",
    "biodata_sim_filedir='../resources/gamedata/biodata_sim.csv'\n",
    "\n",
    "\n",
    "mixdata_sim=get_mldata(mixdata_sim_filedir)\n",
    "interdata_sim=get_mldata(inerdata_sim_filedir)\n",
    "biodata_sim=get_mldata(biodata_sim_filedir)"
   ]
  },
  {
   "cell_type": "code",
   "execution_count": 52,
   "metadata": {},
   "outputs": [],
   "source": [
    "# make data for ml analysis\n",
    "features_interdata_sim=[]\n",
    "labels_interdata_sim_true=[]\n",
    "features_biodata_sim=[]\n",
    "labels_biodata_sim_true=[]\n",
    "\n",
    "for i in interdata_sim:\n",
    "    features_interdata_sim=features_interdata_sim+[i[0:4]]\n",
    "    labels_interdata_sim_true=labels_interdata_sim_true+[i[4]]\n",
    "for i in biodata_sim:\n",
    "    features_biodata_sim=features_biodata_sim+[i[0:10]]\n",
    "    labels_biodata_sim_true=labels_biodata_sim_true+[i[10]]\n",
    "\n",
    "# cluster interdata by kmeans \n",
    "train_features_km=np.array(features_interdata_sim[0:400])\n",
    "clu_km=KMeans(n_clusters=2,random_state=0).fit(train_features_km)\n",
    "#labels_pre_km=kmeans.predict(features_interdata_sim[400:579])\n",
    "#testlabels_true=label_interdata_sim[400:579]\n",
    "#metrics.adjusted_rand_score(testlabels_true,testlabels_pre_km)\n",
    "\n",
    "#labels for biodata\n",
    "labels_biodata_sim_pre_km=clu_km.predict(features_interdata_sim)\n",
    "#metrics.adjusted_rand_score(labels_interdata_sim_true,labels_biodata_sim_pre_km)\n",
    "diff_num=[]\n",
    "'''for i in range(len(labels_biodata_sim_pre_km)):\n",
    "    diff=labels_biodata_sim_pre_km[i]-labels_interdata_sim_true[i]\n",
    "    if diff!=0:\n",
    "        diff_num=diff_num+[diff]'''\n",
    "#print(diff_num)\n",
    "\n",
    "\n",
    "#classify biodata by SVM\n",
    "train_features_svm=np.array(features_biodata_sim[0:400])\n",
    "train_labels_svm=np.array(labels_biodata_sim_pre_km[0:400])\n",
    "test_features_svm=np.array(features_biodata_sim[400:580])\n",
    "test_labels_svm=np.array(labels_biodata_sim_pre_km[400:580])\n",
    "\n",
    "clf_svm=svm.SVC(C=1)\n",
    "clf_svm.fit(train_features_svm,train_labels_svm)\n",
    "labels_pre_svm=clf_svm.predict(test_features_svm)\n",
    "\n",
    "\n",
    "score_crossvali=cross_val_score(clf_svm,train_features_svm,train_labels_svm,cv=4)\n",
    "\n",
    "similarity_metrics=metrics.adjusted_rand_score(labels_pre_svm,test_labels_svm)\n",
    "\n",
    "print(score_crossvali)\n",
    "\n",
    "acc_svm=accuracy_score(test_labels_svm,labels_pre_svm)\n",
    "prn_svm=precision_score(test_labels_svm,labels_pre_svm)\n",
    "print(acc_svm)\n",
    "print(prn_svm)\n",
    "\n",
    "\n",
    "\n"
   ]
  },
  {
   "cell_type": "code",
   "execution_count": 18,
   "metadata": {},
   "outputs": [],
   "source": [
    "# the classifier clf_svm\n",
    "def get_depressionlevel_frombio(biodata):\n",
    "    behavepattern_frombio=clf_svm.predict(biodata)\n",
    "    return behavepattern_frombio\n"
   ]
  },
  {
   "cell_type": "code",
   "execution_count": null,
   "metadata": {},
   "outputs": [],
   "source": []
  }
 ],
 "metadata": {
  "kernelspec": {
   "display_name": "Python 3",
   "language": "python",
   "name": "python3"
  },
  "language_info": {
   "codemirror_mode": {
    "name": "ipython",
    "version": 3
   },
   "file_extension": ".py",
   "mimetype": "text/x-python",
   "name": "python",
   "nbconvert_exporter": "python",
   "pygments_lexer": "ipython3",
   "version": "3.5.4"
  }
 },
 "nbformat": 4,
 "nbformat_minor": 1
}
