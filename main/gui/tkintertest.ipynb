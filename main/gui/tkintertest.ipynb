{
 "cells": [
  {
   "cell_type": "code",
   "execution_count": null,
   "metadata": {},
   "outputs": [],
   "source": [
    "from tkinter import *\n",
    "\n",
    "class Window(Frame):\n",
    "    def _init_(self,master=None):\n",
    "        Frame._init_(self,master)\n",
    "        self.master=master\n",
    "        self.init_window()\n",
    "    \n",
    "    def init_window(self):\n",
    "        # changing the title of our master widget      \n",
    "        self.master.title(\"Control Window\")\n",
    "\n",
    "        # allowing the widget to take the full space of the root window\n",
    "        self.pack(fill=BOTH, expand=1)\n",
    "\n",
    "        # creating a button instance\n",
    "        quitButton = Button(self, text=\"Quit\")\n",
    "\n",
    "        # placing the button on my window\n",
    "        quitButton.place(x=10, y=10)\n",
    "\n",
    "\n",
    "root=Tk()\n",
    "#size of the window\n",
    "root.geometry(\"300x300\")\n",
    "\n",
    "app = Window(root)\n",
    "root.mainloop()"
   ]
  }
 ],
 "metadata": {
  "kernelspec": {
   "display_name": "Python 3",
   "language": "python",
   "name": "python3"
  },
  "language_info": {
   "codemirror_mode": {
    "name": "ipython",
    "version": 3.0
   },
   "file_extension": ".py",
   "mimetype": "text/x-python",
   "name": "python",
   "nbconvert_exporter": "python",
   "pygments_lexer": "ipython3",
   "version": "3.6.2"
  }
 },
 "nbformat": 4,
 "nbformat_minor": 0
}