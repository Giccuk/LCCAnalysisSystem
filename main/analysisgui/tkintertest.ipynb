{
 "cells": [
  {
   "cell_type": "code",
   "execution_count": 2,
   "metadata": {},
   "outputs": [],
   "source": [
    "import mysql.connector\n",
    "import re\n",
    "dataset_name='lccgame'\n",
    "\n",
    "def querymysql(query_command):\n",
    "    db=mysql.connector.connect(host='localhost',\n",
    "                           database='lccgame',\n",
    "                           user='host',\n",
    "                           password='host')\n",
    "    cursor=db.cursor()\n",
    "    cursor.execute(query_command)\n",
    "    db.close()\n",
    "    queryresult=cursor.fetchall()\n",
    "    return queryresult\n",
    "\n",
    "querycommand_usermsgs=\"\"\"SELECT gamemsgs.gameid,playerinfo.interid,playerinfo.userid,playerinfo.playerrole,gamemsgs.msgbody \n",
    "                            FROM playerinfo \n",
    "                            INNER JOIN gamemsgs \n",
    "                            ON playerinfo.interid=gamemsgs.interid\"\"\"\n",
    "interdata_msgs=querymysql(querycommand_usermsgs)\n",
    "\n"
   ]
  },
  {
   "cell_type": "code",
   "execution_count": 9,
   "metadata": {},
   "outputs": [
    {
     "name": "stdout",
     "output_type": "stream",
     "text": [
      "[0.3, 0.5, 0.2, 0.3, 0.3, 0.4, 0.4, 0.1, 0.3]\n",
      "[0.5, 0.7]\n",
      "11\n"
     ]
    }
   ],
   "source": [
    "userid=14\n",
    "\n",
    "\n",
    "responderaccept_ratio=[]\n",
    "responderreject_ratio=[]\n",
    "role='responder'+'%'\n",
    "repattern_gamemsg = re.compile(r'e\\((?P<msgname>\\w*)\\((?P<msgvars>.*)\\)\\)')\n",
    "repattern_userinfo = re.compile(r'(?P<userrolename>\\w*)\\((?P<agentrolevars>.*)\\)')\n",
    "#get the choice that the responder makes\n",
    "querycommand_rc=\"\"\"SELECT gamemsgs.msgbody,playerinfo.playerrole,playerinfo.interid\n",
    "                        FROM playerinfo\n",
    "                        INNER JOIN gamemsgs \n",
    "                        ON playerinfo.interid=gamemsgs.interid\n",
    "                        WHERE ( playerinfo.userid=%s \n",
    "                            AND playerinfo.playerrole LIKE \"%s\"\n",
    "                            AND playerinfo.playerrole=gamemsgs.msgsenderrole )\n",
    "                        ORDER BY playerinfo.interid\n",
    "                    \"\"\"%(userid,role)\n",
    "msglist_responder_send=querymysql(querycommand_rc)#a(acceptornot(accept#3))\n",
    "# extract offer values from the messages\n",
    "for i in msglist_responder_send:\n",
    "    responder_msg=re.search(repattern_gamemsg,i[0]).group('msgvars').split('#')\n",
    "    responder_choice=responder_msg[0]\n",
    "    proposer_offer=responder_msg[1]\n",
    "    game_total=re.search(repattern_userinfo,i[1]).group('agentrolevars')\n",
    "    if responder_choice==\"reject\":\n",
    "        respondeechoice_ratio=responderreject_ratio+[int(proposer_offer)/int(game_total)]\n",
    "    elif responder_choice==\"accept\":\n",
    "        responderaccept_ratio=responderaccept_ratio+[int(proposer_offer)/int(game_total)]\n",
    "    else:\n",
    "        print(\"wired choice!\")\n",
    "    \n",
    "print(responderreject_ratio)   \n",
    "print(responderaccept_ratio)\n",
    "print(len(msglist_responder_send))\n",
    "    #responderget=responderget+[[int(investor_offer[0])/int(game_total[0]),i[2]]]\n",
    "\n",
    "\n"
   ]
  }
 ],
 "metadata": {
  "kernelspec": {
   "display_name": "Python 3",
   "language": "python",
   "name": "python3"
  },
  "language_info": {
   "codemirror_mode": {
    "name": "ipython",
    "version": 3
   },
   "file_extension": ".py",
   "mimetype": "text/x-python",
   "name": "python",
   "nbconvert_exporter": "python",
   "pygments_lexer": "ipython3",
   "version": "3.6.2"
  }
 },
 "nbformat": 4,
 "nbformat_minor": 1
}
