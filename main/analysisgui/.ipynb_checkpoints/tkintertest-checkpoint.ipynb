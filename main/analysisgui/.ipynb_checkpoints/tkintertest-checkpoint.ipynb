{
 "cells": [
  {
   "cell_type": "code",
   "execution_count": 1,
   "metadata": {},
   "outputs": [
    {
     "name": "stdout",
     "output_type": "stream",
     "text": [
      "(1, 3358, 11, 'proposer(10)', 'e(offernum(10#richard))')\n",
      "(2, 3358, 11, 'proposer(10)', 'e(acceptornot(reject#10))')\n",
      "160\n"
     ]
    }
   ],
   "source": [
    "import mysql.connector\n",
    "\n",
    "dataset_name='lccgame'\n",
    "\n",
    "def querymysql(query_command):\n",
    "    db=mysql.connector.connect(host='localhost',\n",
    "                           database='lccgame',\n",
    "                           user='host',\n",
    "                           password='host')\n",
    "    cursor=db.cursor()\n",
    "    cursor.execute(query_command)\n",
    "    db.close()\n",
    "    queryresult=cursor.fetchall()\n",
    "    return queryresult\n",
    "\n",
    "interidlist=querymysql(\"SELECT interid from playerinfo\")\n",
    "\n",
    "querycommand_usermsgs=\"SELECT gamemsgs.gameid,playerinfo.interid, playerinfo.userid,playerinfo.playerrole,gamemsgs.msgbody FROM playerinfo INNER JOIN gamemsgs ON playerinfo.interid=gamemsgs.interid\"\n",
    "interdata_msgs=querymysql(querycommand_usermsgs)\n",
    "print(interdata_msgs[0])\n",
    "print(interdata_msgs[1])\n",
    "print(len(interdata_msgs))"
   ]
  },
  {
   "cell_type": "code",
   "execution_count": 5,
   "metadata": {},
   "outputs": [
    {
     "name": "stdout",
     "output_type": "stream",
     "text": [
      "20\n"
     ]
    },
    {
     "ename": "IndexError",
     "evalue": "tuple index out of range",
     "output_type": "error",
     "traceback": [
      "\u001b[0;31m---------------------------------------------------------------------------\u001b[0m",
      "\u001b[0;31mIndexError\u001b[0m                                Traceback (most recent call last)",
      "\u001b[0;32m<ipython-input-5-36d29256992b>\u001b[0m in \u001b[0;36m<module>\u001b[0;34m()\u001b[0m\n\u001b[1;32m     30\u001b[0m \u001b[0mrepattern_gamemsg\u001b[0m \u001b[0;34m=\u001b[0m \u001b[0mre\u001b[0m\u001b[0;34m.\u001b[0m\u001b[0mcompile\u001b[0m\u001b[0;34m(\u001b[0m\u001b[0;34mr'e\\((?P<msgname>\\w*)\\((?P<msgvars>.*)\\)\\)'\u001b[0m\u001b[0;34m)\u001b[0m\u001b[0;34m\u001b[0m\u001b[0m\n\u001b[1;32m     31\u001b[0m \u001b[0;32mfor\u001b[0m \u001b[0mi\u001b[0m \u001b[0;32min\u001b[0m \u001b[0mmsglist_propser_sender\u001b[0m\u001b[0;34m:\u001b[0m\u001b[0;34m\u001b[0m\u001b[0m\n\u001b[0;32m---> 32\u001b[0;31m     \u001b[0mmsg_vars\u001b[0m\u001b[0;34m=\u001b[0m\u001b[0mre\u001b[0m\u001b[0;34m.\u001b[0m\u001b[0msearch\u001b[0m\u001b[0;34m(\u001b[0m\u001b[0mrepattern_gamemsg\u001b[0m\u001b[0;34m,\u001b[0m\u001b[0mi\u001b[0m\u001b[0;34m[\u001b[0m\u001b[0;36m1\u001b[0m\u001b[0;34m]\u001b[0m\u001b[0;34m)\u001b[0m\u001b[0;34m.\u001b[0m\u001b[0mgroup\u001b[0m\u001b[0;34m(\u001b[0m\u001b[0;34m'msgvars'\u001b[0m\u001b[0;34m)\u001b[0m\u001b[0;34m.\u001b[0m\u001b[0msplit\u001b[0m\u001b[0;34m(\u001b[0m\u001b[0;34m'#'\u001b[0m\u001b[0;34m)\u001b[0m\u001b[0;34m\u001b[0m\u001b[0m\n\u001b[0m\u001b[1;32m     33\u001b[0m     \u001b[0mproposeroffer\u001b[0m\u001b[0;34m=\u001b[0m\u001b[0mproposeroffer\u001b[0m\u001b[0;34m+\u001b[0m\u001b[0;34m[\u001b[0m\u001b[0mint\u001b[0m\u001b[0;34m(\u001b[0m\u001b[0mmsg_vars\u001b[0m\u001b[0;34m[\u001b[0m\u001b[0;36m0\u001b[0m\u001b[0;34m]\u001b[0m\u001b[0;34m)\u001b[0m\u001b[0;34m]\u001b[0m\u001b[0;34m\u001b[0m\u001b[0m\n\u001b[1;32m     34\u001b[0m     \u001b[0;31m# return the min and max values of the offers\u001b[0m\u001b[0;34m\u001b[0m\u001b[0;34m\u001b[0m\u001b[0m\n",
      "\u001b[0;31mIndexError\u001b[0m: tuple index out of range"
     ]
    }
   ],
   "source": [
    "import re\n",
    "def querymysql(query_command):\n",
    "    db=mysql.connector.connect(host='localhost',\n",
    "                           database='lccgame',\n",
    "                           user='host',\n",
    "                           password='host')\n",
    "    cursor=db.cursor()\n",
    "    cursor.execute(query_command)\n",
    "    db.close()\n",
    "    queryresult=cursor.fetchall()\n",
    "    return queryresult\n",
    "\n",
    "userid=14\n",
    "\n",
    "proposeroffer=[]\n",
    "role='proposer'+'%'\n",
    "        #get the user's messages as proposer about offer amount\n",
    "querycommand_po=\"\"\"SELECT gamemsgs.msgbody\n",
    "                        FROM playerinfo\n",
    "                        INNER JOIN gamemsgs \n",
    "                        ON playerinfo.interid=gamemsgs.interid\n",
    "                        WHERE(playerinfo.userid=%s\n",
    "                            AND playerinfo.playerrole LIKE \"%s\"\n",
    "                            AND gamemsgs.msgsenderrole LIKE \"%s\")\n",
    "                    \"\"\"%(userid,role,role)\n",
    "msglist_propser_sender=querymysql(querycommand_po)\n",
    "\n",
    "print(len(msglist_propser_sender))\n",
    "    # extract offer values from the messages\n",
    "repattern_gamemsg = re.compile(r'e\\((?P<msgname>\\w*)\\((?P<msgvars>.*)\\)\\)')\n",
    "for i in msglist_propser_sender:\n",
    "    msg_vars=re.search(repattern_gamemsg,i[0]).group('msgvars').split('#')\n",
    "    proposeroffer=proposeroffer+[int(msg_vars[0])]\n",
    "    # return the min and max values of the offers\n"
   ]
  },
  {
   "cell_type": "code",
   "execution_count": 43,
   "metadata": {},
   "outputs": [
    {
     "name": "stdout",
     "output_type": "stream",
     "text": [
      "------offer ratio is  1.0\n",
      "------offer ratio is  0.7\n",
      "------offer ratio is  0.6\n",
      "++++++invest ratio is  1.0\n",
      "++++++invest ratio is  2.0\n",
      "------offer ratio is  1.0\n",
      "------offer ratio is  0.9\n",
      "------offer ratio is  0.9\n",
      "------offer ratio is  0.9\n",
      "++++++invest ratio is  9.0\n",
      "------offer ratio is  0.7\n",
      "++++++invest ratio is  6.0\n",
      "++++++invest ratio is  9.0\n",
      "++++++invest ratio is  3.0\n",
      "------offer ratio is  0.1\n",
      "------offer ratio is  0.6\n",
      "------offer ratio is  0.1\n",
      "------offer ratio is  1.0\n",
      "------offer ratio is  0.9\n",
      "++++++invest ratio is  6.0\n",
      "++++++invest ratio is  5.0\n",
      "++++++invest ratio is  5.0\n",
      "------offer ratio is  0.7\n",
      "++++++invest ratio is  4.0\n",
      "------offer ratio is  0.6\n",
      "------offer ratio is  0.9\n",
      "++++++invest ratio is  10.0\n",
      "++++++invest ratio is  2.0\n",
      "++++++invest ratio is  5.0\n",
      "------offer ratio is  0.6\n",
      "++++++invest ratio is  2.0\n",
      "------offer ratio is  0.2\n",
      "++++++invest ratio is  9.0\n",
      "++++++invest ratio is  6.0\n",
      "------offer ratio is  0.4\n",
      "++++++invest ratio is  4.0\n",
      "++++++invest ratio is  9.0\n",
      "------offer ratio is  0.9\n",
      "++++++invest ratio is  8.0\n",
      "++++++invest ratio is  5.0\n",
      "++++++invest ratio is  5.0\n",
      "++++++invest ratio is  5.0\n",
      "++++++invest ratio is  5.0\n",
      "++++++invest ratio is  3.0\n",
      "++++++invest ratio is  8.0\n",
      "++++++invest ratio is  7.0\n",
      "++++++invest ratio is  9.0\n",
      "++++++invest ratio is  10.0\n",
      "++++++invest ratio is  8.0\n",
      "------offer ratio is  1.0\n",
      "------offer ratio is  0.9\n"
     ]
    }
   ],
   "source": [
    "import re\n",
    "\n",
    "\n",
    "repattern_userinfo=re.compile(r'(?P<userrolename>\\w*)\\((?P<agentrolevars>.*)\\)')\n",
    "repattern_msgbody=re.compile(r'e\\((?P<msgname>\\w*)\\((?P<msgvars>.*)\\)\\)')\n",
    "\n",
    "interdata_userpatterns=[]\n",
    "\n",
    "for i in interdata_msgs:\n",
    "    msgpatterns={'userid':\"000\",'proposeroffer':'1','responderaccept':\"1\",'investoroffer':\"1\",'investrate':\"1\",'trusteerepay':\"1\"}\n",
    "    userinfo_rolename=re.search(repattern_userinfo,i[3]).group('userrolename')\n",
    "    userinfo_rolevars=re.search(repattern_userinfo,i[3]).group('agentrolevars').split('\\,')\n",
    "    msgbody_msgname=re.search(repattern_msgbody,i[4]).group('msgname')\n",
    "    msgbody_msgvars=re.search(repattern_msgbody,i[4]).group('msgvars').split('#')\n",
    "    if (userinfo_rolename=='trustee'):\n",
    "        if msgbody_msgname=='repay':\n",
    "            repayratio=int(msgbody_msgvars[0])/1\n",
    "    elif (userinfo_rolename=='investor'):\n",
    "        if msgbody_msgname=='invest':\n",
    "            investratio=int(msgbody_msgvars[0])/1\n",
    "            print('++++++invest ratio is ',investratio)\n",
    "    elif(userinfo_rolename=='proposer'):\n",
    "        if msgbody_msgname=='offernum':\n",
    "            offerratio=int(msgbody_msgvars[0])/int(userinfo_rolevars[0])\n",
    "            print('------offer ratio is ',offerratio)\n",
    "    elif(userinfo_rolename=='responder'):\n",
    "        userinfo_rolevars"
   ]
  },
  {
   "cell_type": "code",
   "execution_count": 32,
   "metadata": {
    "collapsed": true
   },
   "outputs": [],
   "source": [
    "interpatterns={'userid':\"000\",'proposeroffer':'1','responderaccept':\"1\",'investoroffer':\"1\",'investrate':\"1\",'trusteerepay':\"1\"}\n"
   ]
  }
 ],
 "metadata": {
  "kernelspec": {
   "display_name": "Python 3",
   "language": "python",
   "name": "python3"
  },
  "language_info": {
   "codemirror_mode": {
    "name": "ipython",
    "version": 3
   },
   "file_extension": ".py",
   "mimetype": "text/x-python",
   "name": "python",
   "nbconvert_exporter": "python",
   "pygments_lexer": "ipython3",
   "version": "3.6.2"
  }
 },
 "nbformat": 4,
 "nbformat_minor": 1
}
