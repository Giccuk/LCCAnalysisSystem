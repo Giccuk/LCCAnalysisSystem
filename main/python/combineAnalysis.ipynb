{
 "cells": [
  {
   "cell_type": "code",
   "execution_count": 72,
   "metadata": {
    "collapsed": true
   },
   "outputs": [],
   "source": [
    "import random, re, csv\n",
    "import numpy as np\n",
    "import MLData\n",
    "#for features and labels\n",
    "from sklearn.model_selection import train_test_split\n",
    "#for analysis methods\n",
    "from sklearn.cluster import KMeans\n",
    "#for evaluation\n",
    "from scipy import stats\n",
    "from sklearn.metrics import accuracy_score\n",
    "from sklearn import metrics\n",
    "\n",
    "#=========================\n",
    "# Get Data for analysis\n",
    "#=========================\n",
    "#get raw data from dataset\n",
    "datafiledir = '/Users/cancui/workspace/virENV/lccanalysissystem/src/main/resources/ilpddata/ilpddata2.csv'\n",
    "ilpddata = MLData.get_ilpddata(datafiledir)\n",
    "interdata = MLData.get_interdata_sim(ilpddata)\n",
    "mixdata = MLData.get_mixdata(ilpddata, interdata)\n",
    "# get features and labels from raw data\n",
    "mldata = MLData.get_featureslabel(mixdata,14,0.4)\n",
    "train_features=mldata['train_features']\n",
    "train_labels=mldata['train_labels']\n",
    "test_features=mldata['test_features']\n",
    "test_labels=mldata['test_labels']"
   ]
  },
  {
   "cell_type": "code",
   "execution_count": 179,
   "metadata": {},
   "outputs": [],
   "source": [
    "#=======================================\n",
    "# Interaction data analysis\n",
    "#=======================================\n",
    "#get interaction features and labels\n",
    "inter_train_features=train_features[:,10:14]\n",
    "inter_test_features=test_features[:,10:14]\n",
    "inter_test_labels=test_labels"
   ]
  },
  {
   "cell_type": "code",
   "execution_count": 213,
   "metadata": {},
   "outputs": [
    {
     "name": "stdout",
     "output_type": "stream",
     "text": [
      "(347,)\n"
     ]
    }
   ],
   "source": [
    "#do clustering(kmeans) on interaction data\n",
    "kmeans = KMeans(n_clusters=2, random_state=0).fit(inter_train_features)\n",
    "kmeans.labels_\n",
    "kresult=kmeans.predict(inter_test_features)"
   ]
  },
  {
   "cell_type": "code",
   "execution_count": 209,
   "metadata": {},
   "outputs": [
    {
     "name": "stdout",
     "output_type": "stream",
     "text": [
      "14\n",
      "(347, 14)\n",
      "234\n"
     ]
    },
    {
     "data": {
      "text/plain": [
       "'\\nprint stats.ttest_ind(kresult,inter_test_labels)\\nprint accuracy_score(kresult,inter_test_labels)\\n\\nprint metrics.adjusted_rand_score(kresult,inter_test_labels)\\n'"
      ]
     },
     "execution_count": 209,
     "metadata": {},
     "output_type": "execute_result"
    }
   ],
   "source": [
    "#evaluation clustering result\n",
    "firstline=[]\n",
    "for i in range(0,len(train_features[0])):\n",
    "    firstline=firstline+[0]\n",
    "    \n",
    "sampleset_1=np.array([firstline])\n",
    "sampleset_0=np.array([firstline])\n",
    "\n",
    "for i in range(0,kresult.shape[0]):\n",
    "    if kresult[i]==1:\n",
    "        sampleset_1=np.append(sampleset_1,[test_features[i]],axis=0)\n",
    "    else:\n",
    "        sampleset_0=np.append(sampleset_0,[test_features[i]],axis=0)\n",
    "    if i==kresult.shape[0]:\n",
    "        print i\n",
    "\n",
    "\n",
    "print train_features.shape       \n",
    "print sampleset_0.shape[0]+sampleset_1.shape[0]\n",
    "\n",
    "'''\n",
    "print stats.ttest_ind(kresult,inter_test_labels)\n",
    "print accuracy_score(kresult,inter_test_labels)\n",
    "\n",
    "print metrics.adjusted_rand_score(kresult,inter_test_labels)\n",
    "'''"
   ]
  },
  {
   "cell_type": "code",
   "execution_count": 174,
   "metadata": {},
   "outputs": [
    {
     "name": "stdout",
     "output_type": "stream",
     "text": [
      "[0 0]\n",
      "[ 2.   2.8]\n",
      "[[1 2]\n",
      " [2 3]\n",
      " [3 4]\n",
      " [4 5]]\n"
     ]
    }
   ],
   "source": [
    "a=np.array([[0,0]])\n",
    "for i in range(0,4):\n",
    "    a=np.append(a,[[i+1,i+2]],0)\n",
    "print a[0]\n",
    "print np.mean(a,axis=0)\n",
    "print np.delete(a,0,0)"
   ]
  },
  {
   "cell_type": "code",
   "execution_count": null,
   "metadata": {
    "collapsed": true
   },
   "outputs": [],
   "source": [
    ""
   ]
  }
 ],
 "metadata": {
  "kernelspec": {
   "display_name": "Python 2",
   "language": "python",
   "name": "python2"
  },
  "language_info": {
   "codemirror_mode": {
    "name": "ipython",
    "version": 2.0
   },
   "file_extension": ".py",
   "mimetype": "text/x-python",
   "name": "python",
   "nbconvert_exporter": "python",
   "pygments_lexer": "ipython2",
   "version": "2.7.13"
  }
 },
 "nbformat": 4,
 "nbformat_minor": 0
}