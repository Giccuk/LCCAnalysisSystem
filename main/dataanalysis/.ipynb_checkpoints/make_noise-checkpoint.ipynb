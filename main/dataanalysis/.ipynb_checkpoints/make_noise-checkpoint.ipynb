{
 "cells": [
  {
   "cell_type": "code",
   "execution_count": 1,
   "metadata": {},
   "outputs": [],
   "source": [
    "import random, re, csv\n",
    "import numpy as np\n",
    "from sklearn import metrics,svm\n",
    "from sklearn.cluster import KMeans\n",
    "from sklearn.metrics import accuracy_score\n",
    "from sklearn.model_selection import train_test_split\n",
    "from simdata import *\n",
    "#from interdata_mysql_simple import *\n",
    "import matplotlib.pyplot as plt\n",
    "from mpl_toolkits.mplot3d import Axes3D"
   ]
  },
  {
   "cell_type": "code",
   "execution_count": 2,
   "metadata": {},
   "outputs": [],
   "source": [
    "#==============================================\n",
    "# make mix_data from csv files\n",
    "#==============================================\n",
    "mixdata_sim_filedir='../resources/gamedata/mixdata_sim.csv'\n",
    "inerdata_sim_filedir='../resources/gamedata/interdata_sim.csv'\n",
    "biodata_sim_filedir='../resources/gamedata/biodata_sim.csv'\n",
    "\n",
    "mixdata_sim=get_mldata(mixdata_sim_filedir)\n",
    "interdata_sim=get_mldata(inerdata_sim_filedir)\n",
    "biodata_sim=get_mldata(biodata_sim_filedir)"
   ]
  },
  {
   "cell_type": "code",
   "execution_count": 3,
   "metadata": {},
   "outputs": [],
   "source": [
    "#==============================================\n",
    "# prepare features/labels for analysis\n",
    "#==============================================\n",
    "# make featrues and labels for analysis\n",
    "features_svm=[]\n",
    "labels_svm=[]\n",
    "\n",
    "for i in mixdata_sim:\n",
    "    features_svm=features_svm+[i[0:4]]\n",
    "    labels_svm=labels_svm+[i[-1]]\n",
    "\n",
    "labels_svm_np = np.array(labels_svm)\n",
    "features_svm_np = np.array(features_svm)\n",
    "\n",
    "# make data follow natural distribution\n",
    "features_svm_np_nd = (features_svm_np - features_svm_np.mean(axis=0)) / features_svm_np.std(axis=0)\n",
    "\n",
    "# make train/test lists for analysis\n",
    "train_features, \\\n",
    "test_features, \\\n",
    "train_labels, \\\n",
    "test_labels = train_test_split(features_svm_np_nd, labels_svm_np, test_size=0.33)\n",
    "\n",
    "#============================\n",
    "#classify interata by SVM\n",
    "#============================\n",
    "\n",
    "clf_svm=svm.SVC(C=1)\n",
    "clf_svm.fit(train_features,train_labels)\n",
    "labels_pre_svm=clf_svm.predict(test_features)\n",
    "#============================\n",
    "# Evaluation\n",
    "#============================\n",
    "\n",
    "acc_svm=accuracy_score(test_labels,labels_pre_svm)\n",
    "#print(\"acc_svm:\",acc_svm)\n"
   ]
  },
  {
   "cell_type": "code",
   "execution_count": 4,
   "metadata": {},
   "outputs": [],
   "source": [
    "#=========================\n",
    "# make noise\n",
    "#=========================\n",
    "# name:noisydata_uni\n",
    "# fun: add uniform noise in to data\n",
    "# in: rawdata(np.array, NOT normalized), valuerange([low,high+1], range of noise)\n",
    "# out: noisydata(np.array)\n",
    "\n",
    "def get_uninoisydata(rawdata,valuerange):\n",
    "    uni_noise = np.random.randint(valuerange[0],valuerange[1],size=rawdata.size)\n",
    "    noisydata=uni_noise+rawdata\n",
    "    return noisydata"
   ]
  },
  {
   "cell_type": "code",
   "execution_count": 5,
   "metadata": {},
   "outputs": [],
   "source": [
    "def get_uninoisylabel(rawlabel,noiselevel):\n",
    "    noisenum=int(noiselevel/100*label_uninoise.size)\n",
    "    uninoise=np.random.randint(0,1,size=noisenum)\n",
    "    label_uninoise=np.append(uninoise,rawlabel[noisenum:])\n",
    "    return label_uninoise\n"
   ]
  },
  {
   "cell_type": "code",
   "execution_count": 12,
   "metadata": {},
   "outputs": [
    {
     "name": "stdout",
     "output_type": "stream",
     "text": [
      "[10 11 12 13 14 15 16 17 18]\n",
      "[10 11 12 13 14 15 16 17 18]\n",
      "[ 0  0  0  0 14 15 16 17 18]\n"
     ]
    }
   ],
   "source": [
    "aa=np.arange(10,19)\n",
    "noiselevel=50\n",
    "print(aa)\n",
    "\n",
    "\n",
    "noisenum=int(noiselevel/100*aa.size)\n",
    "newlabels=np.append(np.random.randint(0,1,size=noisenum),aa[noisenum:])\n",
    "\n",
    "\n",
    "\n",
    "print(aa)\n",
    "print(newlabels)\n",
    "\n",
    "#print(features_svm_np)"
   ]
  },
  {
   "cell_type": "code",
   "execution_count": 166,
   "metadata": {},
   "outputs": [
    {
     "data": {
      "image/png": "[encoded data removed]",
      "text/plain": [
       "<Figure size 432x288 with 1 Axes>"
      ]
     },
     "metadata": {},
     "output_type": "display_data"
    }
   ],
   "source": [
    "rawdata=test_features[0]\n",
    "noisydata=get_uninoisydata(rawdata)\n",
    "\n",
    "num_data=np.arange(0,noisydata.size)\n",
    "plt.plot(num_data,noisydata,'ro-',label='Noisy Data')\n",
    "plt.plot(rawdata,'bo-',label='Raw Data')\n",
    "plt.legend() # 展示图例\n",
    "plt.xlabel('Offer type') # 给 x 轴添加标签\n",
    "plt.ylabel('Offer Value') # 给 y 轴添加标签\n",
    "plt.title('Uniform Noise Analysis') # 添加图形标题\n",
    "plt.show()"
   ]
  },
  {
   "cell_type": "code",
   "execution_count": 104,
   "metadata": {
    "scrolled": false
   },
   "outputs": [
    {
     "name": "stderr",
     "output_type": "stream",
     "text": [
      "/Users/cancui/anaconda3/envs/abiba_analysis_v2/lib/python3.5/site-packages/matplotlib/axes/_axes.py:6499: MatplotlibDeprecationWarning: \n",
      "The 'normed' kwarg was deprecated in Matplotlib 2.1 and will be removed in 3.1. Use 'density' instead.\n",
      "  alternative=\"'density'\", removal=\"3.1\")\n"
     ]
    },
    {
     "data": {
      "image/png": "[encoded data removed]",
      "text/plain": [
       "<Figure size 432x288 with 1 Axes>"
      ]
     },
     "metadata": {},
     "output_type": "display_data"
    },
    {
     "name": "stdout",
     "output_type": "stream",
     "text": [
      "[ 4.51789202  3.34450513  5.17715261  7.15023107  1.43146851  2.89142139\n",
      "  6.40747822  1.93989969  8.54790415  3.08578361]\n"
     ]
    }
   ],
   "source": [
    "count, bins, ignored = plt.hist(s, 2,normed=True)\n",
    "plt.plot(bins, np.ones_like(bins), linewidth=2, color='r')\n",
    "plt.show()\n",
    "print(s)"
   ]
  },
  {
   "cell_type": "code",
   "execution_count": 189,
   "metadata": {},
   "outputs": [
    {
     "name": "stdout",
     "output_type": "stream",
     "text": [
      "[[0 1 2]\n",
      " [3 4 5]\n",
      " [6 7 8]]\n"
     ]
    }
   ],
   "source": [
    "a=np.arange(9).reshape(3,3)\n",
    "print(a)"
   ]
  },
  {
   "cell_type": "code",
   "execution_count": 220,
   "metadata": {},
   "outputs": [
    {
     "name": "stdout",
     "output_type": "stream",
     "text": [
      "[10 11 12 13 14 15 16 17 18]\n",
      "[ 1  0  1 13 14 15 16 17 18]\n"
     ]
    }
   ],
   "source": [
    "a=np.random.randint(0,2,3)\n",
    "b=np.arange(10,19)\n",
    "print(b)\n",
    "b[:3]=a\n",
    "print(b)"
   ]
  },
  {
   "cell_type": "code",
   "execution_count": 208,
   "metadata": {},
   "outputs": [
    {
     "data": {
      "text/plain": [
       "405"
      ]
     },
     "execution_count": 208,
     "metadata": {},
     "output_type": "execute_result"
    }
   ],
   "source": [
    "round(579*0.7)"
   ]
  },
  {
   "cell_type": "code",
   "execution_count": null,
   "metadata": {},
   "outputs": [],
   "source": []
  },
  {
   "cell_type": "code",
   "execution_count": null,
   "metadata": {},
   "outputs": [],
   "source": []
  }
 ],
 "metadata": {
  "kernelspec": {
   "display_name": "Python 3",
   "language": "python",
   "name": "python3"
  },
  "language_info": {
   "codemirror_mode": {
    "name": "ipython",
    "version": 3
   },
   "file_extension": ".py",
   "mimetype": "text/x-python",
   "name": "python",
   "nbconvert_exporter": "python",
   "pygments_lexer": "ipython3",
   "version": "3.5.4"
  }
 },
 "nbformat": 4,
 "nbformat_minor": 2
}
