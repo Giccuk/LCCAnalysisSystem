{
 "cells": [
  {
   "cell_type": "code",
   "execution_count": 43,
   "metadata": {},
   "outputs": [
    {
     "ename": "AttributeError",
     "evalue": "'module' object has no attribute 'get_featureslabel'",
     "output_type": "error",
     "traceback": [
      "\u001b[0;31m---------------------------------------------------------------------------\u001b[0m",
      "\u001b[0;31mAttributeError\u001b[0m                            Traceback (most recent call last)",
      "\u001b[0;32m<ipython-input-43-bc0ae074c776>\u001b[0m in \u001b[0;36m<module>\u001b[0;34m()\u001b[0m\n\u001b[1;32m      9\u001b[0m \u001b[0minterdata\u001b[0m \u001b[0;34m=\u001b[0m \u001b[0mMLData\u001b[0m\u001b[0;34m.\u001b[0m\u001b[0mget_interdata_sim\u001b[0m\u001b[0;34m(\u001b[0m\u001b[0milpddata\u001b[0m\u001b[0;34m)\u001b[0m\u001b[0;34m\u001b[0m\u001b[0m\n\u001b[1;32m     10\u001b[0m \u001b[0mmixdata\u001b[0m \u001b[0;34m=\u001b[0m \u001b[0mMLData\u001b[0m\u001b[0;34m.\u001b[0m\u001b[0mget_mixdata\u001b[0m\u001b[0;34m(\u001b[0m\u001b[0milpddata\u001b[0m\u001b[0;34m,\u001b[0m \u001b[0minterdata\u001b[0m\u001b[0;34m)\u001b[0m\u001b[0;34m\u001b[0m\u001b[0m\n\u001b[0;32m---> 11\u001b[0;31m \u001b[0mmldata\u001b[0m \u001b[0;34m=\u001b[0m \u001b[0mMLData\u001b[0m\u001b[0;34m.\u001b[0m\u001b[0mget_featureslabel\u001b[0m\u001b[0;34m(\u001b[0m\u001b[0mmixdata\u001b[0m\u001b[0;34m,\u001b[0m\u001b[0;36m14\u001b[0m\u001b[0;34m,\u001b[0m\u001b[0;36m0.4\u001b[0m\u001b[0;34m)\u001b[0m\u001b[0;34m\u001b[0m\u001b[0m\n\u001b[0m\u001b[1;32m     12\u001b[0m \u001b[0;34m\u001b[0m\u001b[0m\n\u001b[1;32m     13\u001b[0m \u001b[0;32mprint\u001b[0m \u001b[0mmldata\u001b[0m\u001b[0;34m[\u001b[0m\u001b[0;34m'train_features'\u001b[0m\u001b[0;34m]\u001b[0m\u001b[0;34m[\u001b[0m\u001b[0;36m0\u001b[0m\u001b[0;34m]\u001b[0m\u001b[0;34m\u001b[0m\u001b[0m\n",
      "\u001b[0;31mAttributeError\u001b[0m: 'module' object has no attribute 'get_featureslabel'"
     ]
    }
   ],
   "source": [
    "import random, re, csv\n",
    "import numpy as np\n",
    "from sklearn.cluster import KMeans\n",
    "from sklearn.model_selection import train_test_split\n",
    "import MLData\n",
    "\n",
    "datafiledir = '/Users/cancui/workspace/virENV/lccanalysissystem/src/main/resources/ilpddata/ilpddata2.csv'\n",
    "ilpddata = MLData.get_ilpddata(datafiledir)\n",
    "interdata = MLData.get_interdata_sim(ilpddata)\n",
    "mixdata = MLData.get_mixdata(ilpddata, interdata)\n",
    "mldata = MLData.get_featureslabel(mixdata,14,0.4)\n",
    "\n",
    "print mldata['train_features'][0]\n",
    "print mldata['train_features'][0][0:10]\n",
    "\n",
    "train_features=mldata['train_features']\n",
    "test_features=mldata['test_features']\n",
    "X = np.array(train_features)\n",
    "kmeans = KMeans(n_clusters=2, random_state=0).fit(X)\n",
    "kresult=kmeans.predict(test_features)"
   ]
  },
  {
   "cell_type": "code",
   "execution_count": null,
   "metadata": {
    "collapsed": true
   },
   "outputs": [],
   "source": []
  }
 ],
 "metadata": {
  "kernelspec": {
   "display_name": "Python 2",
   "language": "python",
   "name": "python2"
  },
  "language_info": {
   "codemirror_mode": {
    "name": "ipython",
    "version": 2
   },
   "file_extension": ".py",
   "mimetype": "text/x-python",
   "name": "python",
   "nbconvert_exporter": "python",
   "pygments_lexer": "ipython2",
   "version": "2.7.13"
  }
 },
 "nbformat": 4,
 "nbformat_minor": 2
}
