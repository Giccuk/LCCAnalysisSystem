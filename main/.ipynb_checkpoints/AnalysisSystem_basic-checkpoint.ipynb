{
 "cells": [
  {
   "cell_type": "code",
   "execution_count": 1,
   "metadata": {},
   "outputs": [
    {
     "name": "stdout",
     "output_type": "stream",
     "text": [
      "0.711206896552\n"
     ]
    }
   ],
   "source": [
    "import random, re, csv\n",
    "import numpy as np\n",
    "import MLData,MLMethod\n",
    "#for features and labels\n",
    "from sklearn.model_selection import train_test_split\n",
    "#for analysis methods\n",
    "from sklearn import svm\n",
    "#for evaluation\n",
    "from scipy import stats\n",
    "from sklearn.metrics import accuracy_score\n",
    "from sklearn import metrics\n",
    "from sklearn.model_selection import cross_val_score\n",
    "\n",
    "#================================================================\n",
    "# Get data for analysis\n",
    "#================================================================\n",
    "#====== get bio-information patterns ===========\n",
    "ilpddatafiledir = '/afs/inf.ed.ac.uk/user/s14/s1458248/workspace/vinlccanalysissystem/src/main/resources/ilpddata/ilpddata2.csv'\n",
    "#ilpddatafiledir = '/Users/cancui/workspace/virENV/lccanalysissystem/src/main/resources/ilpddata/ilpddata2.csv'\n",
    "ilpddata =MLData.get_ilpddata(ilpddatafiledir)\n",
    "biodata_patterns=[]\n",
    "for i in ilpddata:\n",
    "    biodata_patterns=biodata_patterns+[i[0:10]]\n",
    "#========= get interaction patterns ================== \n",
    "interdata_patterns= MLData.get_interdata_patterns_sim(ilpddata)\n",
    "\n",
    "#=========================================================================\n",
    "# Divide sample based on Interaction data\n",
    "#=========================================================================    \n",
    "num_clusters=2\n",
    "biodata=MLMethod.label_biodata(num_clusters,interdata_patterns,biodata_patterns)\n",
    "\n",
    "#==============================================================================\n",
    "# Bio information classification\n",
    "#==============================================================================\n",
    "#============================ SVM ==========================\n",
    "ml_biodata = MLData.get_features_labels(biodata,10,0.4)\n",
    "svm_bio_train_features=ml_biodata['train_features'][:,0:10]\n",
    "svm_bio_train_labels=ml_biodata['train_labels']\n",
    "svm_bio_test_features=ml_biodata['test_features'][:,0:10]\n",
    "svm_bio_test_labels=ml_biodata['test_labels']\n",
    "\n",
    "svmclf=svm.SVC(C=1)\n",
    "svmclf.fit(svm_bio_train_features,svm_bio_train_labels)\n",
    "svmclfresult=svmclf.predict(svm_bio_test_features)\n",
    "\n",
    "scores=cross_val_score(svmclf,svm_bio_train_features,svm_bio_train_labels,cv=4)\n",
    "\n",
    "svm_score=accuracy_score(svm_bio_test_labels,svmclfresult)\n",
    "\n",
    "print svm_score"
   ]
  }
 ],
 "metadata": {
  "kernelspec": {
   "display_name": "Python 2",
   "language": "python",
   "name": "python2"
  },
  "language_info": {
   "codemirror_mode": {
    "name": "ipython",
    "version": 2
   },
   "file_extension": ".py",
   "mimetype": "text/x-python",
   "name": "python",
   "nbconvert_exporter": "python",
   "pygments_lexer": "ipython2",
   "version": "2.7.5"
  }
 },
 "nbformat": 4,
 "nbformat_minor": 2
}
