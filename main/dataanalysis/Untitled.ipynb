{
 "cells": [
  {
   "cell_type": "code",
   "execution_count": 13,
   "metadata": {},
   "outputs": [],
   "source": [
    "import nltk\n",
    "import re\n",
    "\n",
    "lccprotocol_ultigame='''a(proposer(Total),P)::= \n",
    " offer(X)=>a(responder(Total),R)<-e(offernum(X, R), _)\n",
    " then\n",
    " decide(D,X)<=a(responder(Total),R)\n",
    " then\n",
    " k(fair(D,X,Total,R)).\n",
    "\n",
    "a(responder(Total),R)::=\n",
    " offer(X)<=a(proposer(Total),P)\n",
    " then\n",
    " decide(D,X)=>a(proposer(Total),P)<-e(acceptornot(D, X), _).'''\n",
    "\n",
    "lcchead=\"a(proposer(T),peter)::=\"\n",
    "lccbody1=\"offer(X)=>a(responder(Total),R)<-e(offernum(X, R), _)\""
   ]
  },
  {
   "cell_type": "code",
   "execution_count": 9,
   "metadata": {},
   "outputs": [
    {
     "data": {
      "text/plain": [
       "list"
      ]
     },
     "execution_count": 9,
     "metadata": {},
     "output_type": "execute_result"
    }
   ],
   "source": [
    "lccprotocol_ultigame_tokens=nltk.word_tokenize(lccprotocol_ultigame)"
   ]
  },
  {
   "cell_type": "code",
   "execution_count": 27,
   "metadata": {},
   "outputs": [
    {
     "data": {
      "text/plain": [
       "<function TextIOWrapper.close>"
      ]
     },
     "execution_count": 27,
     "metadata": {},
     "output_type": "execute_result"
    }
   ],
   "source": [
    "f=open('../resources/phpgameprotocols/ultimategame.inst','r')\n",
    "protocol_ultigame=[]\n",
    "for line in f.readlines():\n",
    "    protocol_ultigame.append(line.strip())\n",
    "f.close"
   ]
  },
  {
   "cell_type": "code",
   "execution_count": 29,
   "metadata": {},
   "outputs": [
    {
     "name": "stdout",
     "output_type": "stream",
     "text": [
      "['a', '(', 'proposer', '(', 'Total', ')', ',', 'P', ')', ':', ':=']\n"
     ]
    }
   ],
   "source": [
    "prolulti_head_token=nltk.word_tokenize(protocol_ultigame[0])\n",
    "print(prolulti_head_token)"
   ]
  }
 ],
 "metadata": {
  "kernelspec": {
   "display_name": "Python 3",
   "language": "python",
   "name": "python3"
  },
  "language_info": {
   "codemirror_mode": {
    "name": "ipython",
    "version": 3.0
   },
   "file_extension": ".py",
   "mimetype": "text/x-python",
   "name": "python",
   "nbconvert_exporter": "python",
   "pygments_lexer": "ipython3",
   "version": "3.5.4"
  }
 },
 "nbformat": 4,
 "nbformat_minor": 0
}