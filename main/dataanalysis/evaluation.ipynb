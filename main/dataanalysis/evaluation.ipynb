{
 "cells": [
  {
   "cell_type": "code",
   "execution_count": 1,
   "metadata": {},
   "outputs": [
    {
     "ename": "NameError",
     "evalue": "name 'a' is not defined",
     "output_type": "error",
     "traceback": [
      "\u001b[0;31m---------------------------------------------------------------------------\u001b[0m",
      "\u001b[0;31mNameError\u001b[0m                                 Traceback (most recent call last)",
      "\u001b[0;32m<ipython-input-1-542c66153fda>\u001b[0m in \u001b[0;36m<module>\u001b[0;34m()\u001b[0m\n\u001b[1;32m      3\u001b[0m \u001b[0;34m\u001b[0m\u001b[0m\n\u001b[1;32m      4\u001b[0m \u001b[0;34m\u001b[0m\u001b[0m\n\u001b[0;32m----> 5\u001b[0;31m \u001b[0mprint\u001b[0m\u001b[0;34m(\u001b[0m\u001b[0ma\u001b[0m\u001b[0;34m)\u001b[0m\u001b[0;34m\u001b[0m\u001b[0m\n\u001b[0m",
      "\u001b[0;31mNameError\u001b[0m: name 'a' is not defined"
     ]
    }
   ],
   "source": [
    "import numpy as np\n",
    "import matplotlib.pyplot as plt\n",
    "\n",
    "\n"
   ]
  },
  {
   "cell_type": "code",
   "execution_count": 16,
   "metadata": {},
   "outputs": [
    {
     "data": {
      "text/plain": [
       "\"\\ncleandata=np.random.normal(0,0.1,1000)\\nnoisedata=np.random.uniform(0,0.1,1000)\\nmixdata=cleandata+noisedata\\n\\nnoisemean=np.mean(noisedata)\\nnoisestd=np.std(noisedata)\\n\\n#plt.figure()\\n#plt.plot(b,'b-o')\\n\\ncleancount, cleanbins, cleanignored=plt.hist(cleandata,25,normed=True)\\nplt.plot(cleanbins,1/(np.sqrt(2*np.pi*std**2))*\\n         np.exp(-(cleanbins - mean)**2/(2 * std**2)),\\n       linewidth=2,color='r')\\n\\nplt.figure()\\nmixcount, mixbins, mixignored=plt.hist(mixdata,25,normed=True,color='g')\\nplt.plot(mixbins,1/(np.sqrt(2*np.pi*std**2))*\\n         np.exp(-(mixbins - mean)**2/(2 * std**2)),\\n       linewidth=2,color='r')\\n\\n\""
      ]
     },
     "execution_count": 16,
     "metadata": {},
     "output_type": "execute_result"
    }
   ],
   "source": [
    "'''\n",
    "cleandata=np.random.normal(0,0.1,1000)\n",
    "noisedata=np.random.uniform(0,0.1,1000)\n",
    "mixdata=cleandata+noisedata\n",
    "\n",
    "noisemean=np.mean(noisedata)\n",
    "noisestd=np.std(noisedata)\n",
    "\n",
    "#plt.figure()\n",
    "#plt.plot(b,'b-o')\n",
    "\n",
    "cleancount, cleanbins, cleanignored=plt.hist(cleandata,25,normed=True)\n",
    "plt.plot(cleanbins,1/(np.sqrt(2*np.pi*std**2))*\n",
    "         np.exp(-(cleanbins - mean)**2/(2 * std**2)),\n",
    "       linewidth=2,color='r')\n",
    "\n",
    "plt.figure()\n",
    "mixcount, mixbins, mixignored=plt.hist(mixdata,25,normed=True,color='g')\n",
    "plt.plot(mixbins,1/(np.sqrt(2*np.pi*std**2))*\n",
    "         np.exp(-(mixbins - mean)**2/(2 * std**2)),\n",
    "       linewidth=2,color='r')\n",
    "\n",
    "'''"
   ]
  },
  {
   "cell_type": "code",
   "execution_count": 20,
   "metadata": {},
   "outputs": [
    {
     "name": "stdout",
     "output_type": "stream",
     "text": [
      "mixdata_sim [7.0, 3.0, 5.0, 5.0, 65.0, 1.0, 0.7, 0.1, 187.0, 16.0, 18.0, 6.8, 3.3, 0.9, 1.0]\n",
      "interdata [7.0, 3.0, 5.0, 5.0, 1.0]\n",
      "biodata [65.0, 1.0, 0.7, 0.1, 187.0, 16.0, 18.0, 6.8, 3.3, 0.9, 1.0]\n"
     ]
    }
   ],
   "source": [
    "import numpy as np\n",
    "from sklearn import svm\n",
    "from sklearn.cluster import KMeans\n",
    "from sklearn.metrics import accuracy_score\n",
    "from sklearn.model_selection import train_test_split\n",
    "\n",
    "\n",
    "from simdata import get_mldata\n",
    "\n",
    "\n",
    "\n",
    "######################################\n",
    "# Getting data from data sources\n",
    "######################################\n",
    "\n",
    "#=========================\n",
    "#get data from csv files\n",
    "#=========================\n",
    "\n",
    "mixdata_sim_filedir='../resources/gamedata/mixdata_sim.csv'\n",
    "inerdata_sim_filedir='../resources/gamedata/interdata_sim.csv'\n",
    "biodata_sim_filedir='../resources/gamedata/biodata_sim.csv'\n",
    "\n",
    "mixdata_sim=get_mldata(mixdata_sim_filedir)\n",
    "interdata_sim=get_mldata(inerdata_sim_filedir)\n",
    "biodata_sim=get_mldata(biodata_sim_filedir)\n",
    "\n",
    "\n",
    "mixdata_labels=[]\n",
    "mixdata_features=[]\n",
    "for i in mixdata_sim:\n",
    "    mixdata_labels=mixdata_labels+[i[14]]\n",
    "    mixdata_features=mixdata_features+[i[0:14]]\n"
   ]
  },
  {
   "cell_type": "code",
   "execution_count": null,
   "metadata": {},
   "outputs": [],
   "source": []
  },
  {
   "cell_type": "code",
   "execution_count": 14,
   "metadata": {},
   "outputs": [
    {
     "name": "stdout",
     "output_type": "stream",
     "text": [
      "acc_svm: 0.734375\n",
      "acc_clu_bio: 1.0\n"
     ]
    },
    {
     "name": "stderr",
     "output_type": "stream",
     "text": [
      "/Users/cancui/workspace/anaconda3/envs/abiba_analysis/lib/python3.5/site-packages/sklearn/utils/validation.py:547: DataConversionWarning: A column-vector y was passed when a 1d array was expected. Please change the shape of y to (n_samples, ), for example using ravel().\n",
      "  y = column_or_1d(y, warn=True)\n"
     ]
    }
   ],
   "source": [
    "############################################\n",
    "# Clustering based on interdata\n",
    "############################################\n",
    "\n",
    "#===========================\n",
    "# get data for clustering\n",
    "#===========================\n",
    "\n",
    "features_km=[]\n",
    "\n",
    "for i in mixdata_sim:\n",
    "    features_km=features_km+[i[0:4]]\n",
    "\n",
    "features_km_np=np.array(features_km)\n",
    "\n",
    "features_km_np = (features_km_np - features_km_np.mean(axis=0)) / features_km_np.std(axis=0)\n",
    "\n",
    "#=================================\n",
    "# cluster interdata by kmeans\n",
    "#=================================\n",
    "\n",
    "clu_km=KMeans(n_clusters=2,random_state=0).fit(features_km_np)\n",
    "\n",
    "#labels_pre_km=kmeans.predict(features_interdata_sim[400:579])\n",
    "#testlabels_true=label_interdata_sim[400:579]\n",
    "#metrics.adjusted_rand_score(testlabels_true,testlabels_pre_km)\n",
    "\n",
    "#============================\n",
    "#labels for biodata\n",
    "#============================\n",
    "labels_pre_km=clu_km.labels_\n",
    "\n",
    "labels_pre_km_centers=clu_km.cluster_centers_\n",
    "\n",
    "#######################################\n",
    "# Classify samples\n",
    "#######################################\n",
    "\n",
    "#================================\n",
    "# data for classifying analysis\n",
    "#================================\n",
    "labels_svm=[]\n",
    "\n",
    "for i in labels_pre_km:\n",
    "    if i==0:\n",
    "        #labels_svm=labels_svm+[labels_pre_km_centers[0]]\n",
    "        labels_svm=labels_svm+[[0.]]\n",
    "    else:\n",
    "        #labels_svm=labels_svm+[labels_pre_km_centers[1]]\n",
    "        labels_svm=labels_svm+[[1.]]\n",
    "\n",
    "labels_svm_np = np.array(labels_svm)\n",
    "\n",
    "features_svm=[]\n",
    "for i in mixdata_sim:\n",
    "    features_svm=features_svm+[i[4:14]]\n",
    "\n",
    "features_svm_np = np.array(features_svm)\n",
    "features_svm_np = (features_svm_np - features_svm_np.mean(axis=0)) / features_svm_np.std(axis=0)# follow natural distribution\n",
    "\n",
    "\n",
    "train_features, test_features, train_labels, test_labels = train_test_split(features_svm_np, labels_svm_np, test_size=0.33)\n",
    "\n",
    "\n",
    "\n",
    "#============================\n",
    "#classify biodata by SVM\n",
    "#============================\n",
    "\n",
    "clf_svm=svm.SVC(C=1)\n",
    "clf_svm.fit(train_features,train_labels)\n",
    "labels_pre_svm=clf_svm.predict(test_features)\n",
    "\n",
    "\n",
    "#============================\n",
    "# Evaluation\n",
    "#============================\n",
    "\n",
    "acc_svm=accuracy_score(test_labels,labels_pre_svm)\n",
    "print(\"acc_svm:\",acc_svm)\n",
    "\n",
    "#=================\n",
    "# analysis\n",
    "#=================\n",
    "biolabels=[]\n",
    "interlabels=[]\n",
    "for i in range(len(biodata_sim)):\n",
    "    biolabels=biolabels+[biodata_sim[i][10]]\n",
    "biolabels_np=np.array(biolabels)\n",
    "\n",
    "cluster_labels=[]\n",
    "for i in range(len(labels_pre_km)):\n",
    "    if labels_pre_km[i]==1:\n",
    "        cluster_labels=cluster_labels+[0]\n",
    "    else:\n",
    "        cluster_labels = cluster_labels + [1]\n",
    "\n",
    "acc_clu_bio=accuracy_score(biolabels,cluster_labels)\n",
    "print(\"acc_clu_bio:\",acc_clu_bio)\n",
    "\n",
    "\n"
   ]
  },
  {
   "cell_type": "code",
   "execution_count": 16,
   "metadata": {},
   "outputs": [],
   "source": [
    "#create noise\n",
    "#\n",
    "a=[1,2]\n",
    "\n",
    "if 1 in a:\n",
    "    print(\"yes\")"
   ]
  },
  {
   "cell_type": "code",
   "execution_count": null,
   "metadata": {},
   "outputs": [],
   "source": []
  },
  {
   "cell_type": "code",
   "execution_count": null,
   "metadata": {},
   "outputs": [],
   "source": []
  }
 ],
 "metadata": {
  "kernelspec": {
   "display_name": "Python 3",
   "language": "python",
   "name": "python3"
  },
  "language_info": {
   "codemirror_mode": {
    "name": "ipython",
    "version": 3
   },
   "file_extension": ".py",
   "mimetype": "text/x-python",
   "name": "python",
   "nbconvert_exporter": "python",
   "pygments_lexer": "ipython3",
   "version": "3.5.4"
  }
 },
 "nbformat": 4,
 "nbformat_minor": 2
}
